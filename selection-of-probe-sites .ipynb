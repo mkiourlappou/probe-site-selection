{
 "cells": [
  {
   "cell_type": "markdown",
   "metadata": {},
   "source": [
    "## Code for automated selection of a user-defined number of probes \n",
    "The probes are as evenly distributed across the target sequence as possible. This is work for MK's paper."
   ]
  },
  {
   "cell_type": "code",
   "execution_count": 99,
   "metadata": {},
   "outputs": [],
   "source": [
    "import numpy as np\n",
    "import itertools"
   ]
  },
  {
   "cell_type": "markdown",
   "metadata": {},
   "source": [
    "#### NOTES\n",
    "\n",
    "https://docs.scipy.org/doc/scipy/reference/generated/scipy.spatial.distance.cdist.html\n",
    "\n",
    "https://realpython.com/python-zip-function/"
   ]
  },
  {
   "cell_type": "code",
   "execution_count": 100,
   "metadata": {},
   "outputs": [],
   "source": [
    "target_position = (1, 8, 10, 13, 23, 25, 82, 92, 96, 97, 98) #list for coordinates of target positions\n",
    "no_probe_sites = 5 \n",
    "\n",
    "# all possible combinations for probe site insertions\n",
    "all_combinations = list(itertools.combinations(target_position, no_probe_sites))\n",
    "\n",
    "# use this to specify sites of probe insertions\n",
    "# e.g. if you want a probe site at the first available candidate and the last available candidate\n",
    "selected_combinations =[]\n",
    "for x in all_combinations:\n",
    "    if x[0] == target_position[0] and x[4] == target_position[10]: #I specify the first and the last probe sites\n",
    "        selected_combinations.append(x)"
   ]
  },
  {
   "cell_type": "code",
   "execution_count": 101,
   "metadata": {},
   "outputs": [],
   "source": [
    "# make sure selected_combinations is an array\n",
    "selected_combinations = np.asarray(selected_combinations)"
   ]
  },
  {
   "cell_type": "code",
   "execution_count": 102,
   "metadata": {},
   "outputs": [],
   "source": [
    "def conseq_point_dist(array):\n",
    "    \"\"\"Finds the difference (distance) between consequtive points in an array\"\"\"\n",
    "    #first_probe_site = array[0] # This element is missed.\n",
    "    first_probe_site = []\n",
    "    dist_between_probe_sites = np.append(first_probe_site, [t - s for s, t in zip(array[:], array[1:])])\n",
    "    return dist_between_probe_sites"
   ]
  },
  {
   "cell_type": "code",
   "execution_count": 103,
   "metadata": {},
   "outputs": [],
   "source": [
    "# Applies the above function to every row of the selected combinations array\n",
    "# Finds the distance between selected insertion sites for every row\n",
    "dist_between_probe_sites_array = np.apply_along_axis(conseq_point_dist, 1, selected_combinations)"
   ]
  },
  {
   "cell_type": "code",
   "execution_count": 104,
   "metadata": {},
   "outputs": [],
   "source": [
    "def func_ideal_length(target_position, no_probe_sites):\n",
    "    length = target_position[-1] - target_position[0] #length of sequence available for probe sites\n",
    "    no_intervals = no_probe_sites - 1 #number of intervals between probe sites\n",
    "    ideal_length = length / no_intervals #if positions of the sites available for probes are continuous\n",
    "    return ideal_length"
   ]
  },
  {
   "cell_type": "code",
   "execution_count": 105,
   "metadata": {},
   "outputs": [],
   "source": [
    "ideal_length = func_ideal_length(target_position, no_probe_sites)"
   ]
  },
  {
   "cell_type": "code",
   "execution_count": 106,
   "metadata": {},
   "outputs": [],
   "source": [
    "def my_func_dist(array, ideal_length):\n",
    "    \"\"\"Finds the euclidean distance between the optimum length and the insertion site length\"\"\"\n",
    "    \n",
    "    square_of_dist_from_ideal_per_point = [(ideal_length - t)*(ideal_length - t) for t in array]\n",
    "    #1st line of crit\n",
    "    square_of_dist_from_ideal_SUM = np.sum(square_of_dist_from_ideal_per_point, axis=1) #2nd line of criterion\n",
    "    #return square_of_dist_from_ideal_SUM\n",
    "    return square_of_dist_from_ideal_SUM"
   ]
  },
  {
   "cell_type": "code",
   "execution_count": 107,
   "metadata": {},
   "outputs": [
    {
     "name": "stdout",
     "output_type": "stream",
     "text": [
      "[ 1 13 25 82 98]\n"
     ]
    }
   ],
   "source": [
    "min_distance = np.min(my_func_dist(dist_between_probe_sites_array, ideal_length)) #Finding the distance that minimises criterion\n",
    "loc= np.where(my_func_dist(dist_between_probe_sites_array, ideal_length) == np.min(min_distance)) #Index of minimum\n",
    "print(selected_combinations[loc[0][0]])"
   ]
  }
 ],
 "metadata": {
  "kernelspec": {
   "display_name": "Python 3",
   "language": "python",
   "name": "python3"
  },
  "language_info": {
   "codemirror_mode": {
    "name": "ipython",
    "version": 3
   },
   "file_extension": ".py",
   "mimetype": "text/x-python",
   "name": "python",
   "nbconvert_exporter": "python",
   "pygments_lexer": "ipython3",
   "version": "3.6.7"
  }
 },
 "nbformat": 4,
 "nbformat_minor": 2
}
