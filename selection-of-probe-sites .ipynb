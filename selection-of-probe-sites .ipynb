{
 "cells": [
  {
   "cell_type": "markdown",
   "metadata": {},
   "source": [
    "## Code for automated selection of a user-defined number of probes \n",
    "The probes are as evenly distributed across the target sequence as possible. This is work for MK's paper."
   ]
  },
  {
   "cell_type": "code",
   "execution_count": 60,
   "metadata": {},
   "outputs": [],
   "source": [
    "import numpy as np\n",
    "import itertools"
   ]
  },
  {
   "cell_type": "markdown",
   "metadata": {},
   "source": [
    "#### NOTES\n",
    "\n",
    "https://docs.scipy.org/doc/scipy/reference/generated/scipy.spatial.distance.cdist.html\n",
    "\n",
    "https://realpython.com/python-zip-function/"
   ]
  },
  {
   "cell_type": "code",
   "execution_count": 77,
   "metadata": {},
   "outputs": [],
   "source": [
    "target_position = (3, 7, 9.5, 13, 19, 22, 23, 24, 25, 27, 30, 34) #list for coordinates of target positions\n",
    "no_probe_sites = 10 \n",
    "\n",
    "# all possible combinations for probe site insertions\n",
    "all_combinations = list(itertools.combinations(target_position, no_probe_sites))\n",
    "\n",
    "# use this to specify sites of probe insertions\n",
    "# e.g. if you want a probe site at the first available candidate and the last available candidate\n",
    "selected_combinations =[]\n",
    "for x in all_combinations:\n",
    "    if x[0] == target_position[0] and x[9] == target_position[11]: #I specify the first and the last probe sites\n",
    "        selected_combinations.append(x)"
   ]
  },
  {
   "cell_type": "code",
   "execution_count": 78,
   "metadata": {},
   "outputs": [],
   "source": [
    "# make sure selected_combinations is an array\n",
    "selected_combinations = np.asarray(selected_combinations)"
   ]
  },
  {
   "cell_type": "code",
   "execution_count": 80,
   "metadata": {},
   "outputs": [],
   "source": [
    "def conseq_point_dist(array):\n",
    "    \"\"\"Finds the difference (distance) between consequtive points in an array\"\"\"\n",
    "    first_probe_site = array[0] # This element is missed. \n",
    "    dist_between_probe_sites = np.append(first_probe_site, [t - s for s, t in zip(array[:], array[1:])])\n",
    "    return dist_between_probe_sites"
   ]
  },
  {
   "cell_type": "code",
   "execution_count": 81,
   "metadata": {},
   "outputs": [],
   "source": [
    "# Applies the above function to every row of the selected combinations array\n",
    "# Finds the distance between selected insertion sites for every row\n",
    "dist_between_probe_sites_array = np.apply_along_axis(conseq_point_dist, 1, selected_combinations)"
   ]
  },
  {
   "cell_type": "code",
   "execution_count": 82,
   "metadata": {},
   "outputs": [],
   "source": [
    "def my_func_dist(array):\n",
    "    \"\"\"Finds the euclidean distance between the optimum length and the insertion site length\"\"\"\n",
    "    length = array[-1] - array[0] #length of sequence available for probe sites\n",
    "    no_intervals = array.shape[1] - 1 #number of intervals between probe sites\n",
    "    ideal_length = length / no_intervals #ideal length between insertion sites (cnt next line)\n",
    "    #if positions of the sites available for probes are continuous\n",
    "    \n",
    "    square_of_dist_from_ideal_per_point = [(ideal_length - t)*(ideal_length - t) for t in array]#1st line of crit\n",
    "    square_of_dist_from_ideal_SUM = np.sum(square_of_dist_from_ideal_per_point, axis=1) #2ns line of criterion\n",
    "    return square_of_dist_from_ideal_SUM"
   ]
  },
  {
   "cell_type": "code",
   "execution_count": 105,
   "metadata": {},
   "outputs": [
    {
     "name": "stdout",
     "output_type": "stream",
     "text": [
      "[ 3.   7.   9.5 13.  19.  22.  24.  27.  30.  34. ]\n"
     ]
    }
   ],
   "source": [
    "min_distance = np.min(my_func_dist(dist_between_probe_sites_array)) #Finding the distance that minimises criterion\n",
    "loc= np.where(my_func_dist(dist_between_probe_sites_array) == np.min(min_distance)) #Index of minimum\n",
    "print(selected_combinations[loc[0][0]])"
   ]
  },
  {
   "cell_type": "code",
   "execution_count": null,
   "metadata": {},
   "outputs": [],
   "source": []
  }
 ],
 "metadata": {
  "kernelspec": {
   "display_name": "Python 3",
   "language": "python",
   "name": "python3"
  },
  "language_info": {
   "codemirror_mode": {
    "name": "ipython",
    "version": 3
   },
   "file_extension": ".py",
   "mimetype": "text/x-python",
   "name": "python",
   "nbconvert_exporter": "python",
   "pygments_lexer": "ipython3",
   "version": "3.6.7"
  }
 },
 "nbformat": 4,
 "nbformat_minor": 2
}
